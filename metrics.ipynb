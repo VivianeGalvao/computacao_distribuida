{
 "cells": [
  {
   "cell_type": "code",
   "execution_count": 5,
   "id": "a5c02a1e",
   "metadata": {},
   "outputs": [],
   "source": [
    "import pandas as pd"
   ]
  },
  {
   "cell_type": "code",
   "execution_count": 9,
   "id": "b8740bf9",
   "metadata": {},
   "outputs": [],
   "source": [
    "projects = ['pso', 'open_mp', 'mpi']\n",
    "dimensions = [1000, 5000, 10000]\n",
    "\n",
    "data = {}\n",
    "for project in projects:\n",
    "    data[project] = {}\n",
    "    dfs = []\n",
    "    for dim in dimensions:\n",
    "        data_name = f'pso_execution_times_{dim}.csv'\n",
    "        df = pd.read_csv(f'./{project}/{data_name}')\n",
    "        df['dimension'] = dim\n",
    "        dfs.append(df)\n",
    "    data[project] = pd.concat(dfs, ignore_index=True)"
   ]
  },
  {
   "cell_type": "code",
   "execution_count": 11,
   "id": "84bf8d69",
   "metadata": {},
   "outputs": [
    {
     "data": {
      "text/plain": [
       "dimension\n",
       "1000      0.359667\n",
       "5000      8.945000\n",
       "10000    35.749667\n",
       "Name: execution_time, dtype: float64"
      ]
     },
     "execution_count": 11,
     "metadata": {},
     "output_type": "execute_result"
    }
   ],
   "source": [
    "data['pso'].groupby('dimension')['execution_time'].mean()"
   ]
  },
  {
   "cell_type": "code",
   "execution_count": 12,
   "id": "5b80a187",
   "metadata": {},
   "outputs": [
    {
     "data": {
      "text/plain": [
       "dimension\n",
       "1000     0.013515\n",
       "5000     0.199512\n",
       "10000    0.195932\n",
       "Name: execution_time, dtype: float64"
      ]
     },
     "execution_count": 12,
     "metadata": {},
     "output_type": "execute_result"
    }
   ],
   "source": [
    "data['pso'].groupby('dimension')['execution_time'].std()"
   ]
  },
  {
   "cell_type": "code",
   "execution_count": 13,
   "id": "33634f33",
   "metadata": {},
   "outputs": [
    {
     "data": {
      "text/plain": [
       "dimension\n",
       "1000      0.259667\n",
       "5000      6.023333\n",
       "10000    24.126667\n",
       "Name: execution_time, dtype: float64"
      ]
     },
     "execution_count": 13,
     "metadata": {},
     "output_type": "execute_result"
    }
   ],
   "source": [
    "data['open_mp'].groupby('dimension')['execution_time'].mean()"
   ]
  },
  {
   "cell_type": "code",
   "execution_count": 14,
   "id": "36be1e8d",
   "metadata": {},
   "outputs": [
    {
     "data": {
      "text/plain": [
       "dimension\n",
       "1000     0.006687\n",
       "5000     0.053905\n",
       "10000    0.185293\n",
       "Name: execution_time, dtype: float64"
      ]
     },
     "execution_count": 14,
     "metadata": {},
     "output_type": "execute_result"
    }
   ],
   "source": [
    "data['open_mp'].groupby('dimension')['execution_time'].std()"
   ]
  },
  {
   "cell_type": "code",
   "execution_count": 15,
   "id": "06fd0ac3",
   "metadata": {},
   "outputs": [
    {
     "data": {
      "text/plain": [
       "dimension\n",
       "1000      0.720333\n",
       "5000      9.127333\n",
       "10000    34.564000\n",
       "Name: execution_time, dtype: float64"
      ]
     },
     "execution_count": 15,
     "metadata": {},
     "output_type": "execute_result"
    }
   ],
   "source": [
    "data['mpi'].groupby('dimension')['execution_time'].mean()"
   ]
  },
  {
   "cell_type": "code",
   "execution_count": 16,
   "id": "61efec89",
   "metadata": {},
   "outputs": [
    {
     "data": {
      "text/plain": [
       "dimension\n",
       "1000     0.025661\n",
       "5000     0.765889\n",
       "10000    0.247144\n",
       "Name: execution_time, dtype: float64"
      ]
     },
     "execution_count": 16,
     "metadata": {},
     "output_type": "execute_result"
    }
   ],
   "source": [
    "data['mpi'].groupby('dimension')['execution_time'].std()"
   ]
  }
 ],
 "metadata": {
  "kernelspec": {
   "display_name": ".venv",
   "language": "python",
   "name": "python3"
  },
  "language_info": {
   "codemirror_mode": {
    "name": "ipython",
    "version": 3
   },
   "file_extension": ".py",
   "mimetype": "text/x-python",
   "name": "python",
   "nbconvert_exporter": "python",
   "pygments_lexer": "ipython3",
   "version": "3.10.12"
  }
 },
 "nbformat": 4,
 "nbformat_minor": 5
}
